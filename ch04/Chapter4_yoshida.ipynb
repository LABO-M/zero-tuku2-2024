{
 "cells": [
  {
   "cell_type": "markdown",
   "metadata": {},
   "source": [
    "# ４章　word2vecの高速化"
   ]
  },
  {
   "cell_type": "markdown",
   "metadata": {},
   "source": [
    "前章で用いたCBOWモデルの計算は相対的に見てカウントベースよりも速いものでしたが、語彙数がある程度増えると同様に時間がかかってしまいます。  \n",
    "    \n",
    "そこで今回は**word2vecの高速化**をメインテーマとして改良を行っていきたいと思います。  \n",
    "  \n",
    "改良点は以下の２つです。\n",
    "\n",
    "- 入力層のone-hot表現と重みW_inの積の計算\n",
    "- 中間層と重みW_outの積およびsoftmaxレイヤの計算"
   ]
  },
  {
   "cell_type": "code",
   "execution_count": 1,
   "metadata": {},
   "outputs": [],
   "source": [
    "#必要なライブラリのインポート\n",
    "import numpy as np\n",
    "import matplotlib.pyplot as plt\n",
    "import pandas as pd"
   ]
  },
  {
   "cell_type": "markdown",
   "metadata": {},
   "source": [
    "## word2vecの改良①\n",
    "\n",
    "### **Embeddingレイヤ**\n",
    "\n",
    "前章のword2vecの実装では入力をone-hot表現に変換し、MatMulレイヤで行列計算を行いました。  \n",
    "  \n",
    "しかし、その計算は本当に必要でしょうか？  \n",
    "  \n",
    "ここで行っているのは単に重み行列から特定の行を抜き出すだけのことです。  \n",
    "  \n",
    "よく考えるとone-hot表現も重みとの積も必要なさそうですね。  \n",
    "  \n",
    "それでは新たに「重み行列から対象の行を抜き出す」レイヤを作りましょう！"
   ]
  },
  {
   "cell_type": "code",
   "execution_count": 2,
   "metadata": {},
   "outputs": [
    {
     "name": "stdout",
     "output_type": "stream",
     "text": [
      "[[ 0  1  2]\n",
      " [ 3  4  5]\n",
      " [ 6  7  8]\n",
      " [ 9 10 11]\n",
      " [12 13 14]\n",
      " [15 16 17]\n",
      " [18 19 20]]\n"
     ]
    }
   ],
   "source": [
    "W=np.arange(21).reshape(7,3)\n",
    "print(W)"
   ]
  },
  {
   "cell_type": "markdown",
   "metadata": {},
   "source": [
    "行列から特定の行を抜き出すのは簡単で、W[2]のように指定するだけです。"
   ]
  },
  {
   "cell_type": "code",
   "execution_count": 3,
   "metadata": {},
   "outputs": [
    {
     "name": "stdout",
     "output_type": "stream",
     "text": [
      "[6 7 8]\n",
      "[15 16 17]\n"
     ]
    }
   ],
   "source": [
    "print(W[2])\n",
    "print(W[5])"
   ]
  },
  {
   "cell_type": "markdown",
   "metadata": {},
   "source": [
    "また、複数の行をまとめて取り出すこともできます。"
   ]
  },
  {
   "cell_type": "code",
   "execution_count": 4,
   "metadata": {},
   "outputs": [
    {
     "name": "stdout",
     "output_type": "stream",
     "text": [
      "[[ 3  4  5]\n",
      " [ 0  1  2]\n",
      " [ 9 10 11]\n",
      " [ 0  1  2]]\n"
     ]
    }
   ],
   "source": [
    "#Wから複数の行を抜き出す\n",
    "idx = np.array([1,0,3,0])\n",
    "print(W[idx])"
   ]
  },
  {
   "cell_type": "markdown",
   "metadata": {},
   "source": [
    "それではEmbeddingレイヤとして実装していきましょう。  \n",
    "  \n",
    "まずは順伝播からです。"
   ]
  },
  {
   "cell_type": "code",
   "execution_count": 5,
   "metadata": {},
   "outputs": [],
   "source": [
    "#Eembeddingレイヤの実装\n",
    "class Embedding:\n",
    "    def __init__(self, W):\n",
    "        self.params=[W]\n",
    "        self.grads=[np.zeros_like(W)]\n",
    "        self.idx=None\n",
    "\n",
    "    def forward(self, idx):\n",
    "        W, = self.params\n",
    "        self.idx=idx\n",
    "        out=W[idx]\n",
    "        return out"
   ]
  },
  {
   "cell_type": "markdown",
   "metadata": {},
   "source": [
    "次は逆伝播です。  \n",
    "  \n",
    "順伝播では重みの特定の行を抜き出す操作をしました。そのため逆伝播では出力層側から伝わってきた勾配をそのまま入力層側に流すだけになります。  \n",
    "  \n",
    "図で表すと以下のようになります。"
   ]
  },
  {
   "cell_type": "markdown",
   "metadata": {},
   "source": [
    "![alt text](pict15.png)"
   ]
  },
  {
   "cell_type": "code",
   "execution_count": 6,
   "metadata": {},
   "outputs": [],
   "source": [
    "#逆伝播\n",
    "def backward(self, dout):\n",
    "    dW, = self.grads\n",
    "    dW[...] = 0\n",
    "    dW[self.idx] = dout #悪い例\n",
    "    return None"
   ]
  },
  {
   "cell_type": "markdown",
   "metadata": {},
   "source": [
    "実はこの実装には問題があります。  \n",
    "  \n",
    "それはidxが重複した際に上書きされてしまい、片方の情報が落ちてしまう可能性があることです。  \n",
    "  \n",
    "そのため今回は代入から加算に変更します。"
   ]
  },
  {
   "cell_type": "code",
   "execution_count": 7,
   "metadata": {},
   "outputs": [],
   "source": [
    "#逆伝播の修正\n",
    "def backward(self, dout):\n",
    "    dW, = self.grads\n",
    "    dW[...] = 0\n",
    "    np.add.at(dW, self.idx, dout)\n",
    "    \n",
    "    return None"
   ]
  },
  {
   "cell_type": "code",
   "execution_count": 8,
   "metadata": {},
   "outputs": [],
   "source": [
    "#Embeddingレイヤ\n",
    "class Embedding:\n",
    "    def __init__(self, W):\n",
    "        self.params=[W]\n",
    "        self.grads=[np.zeros_like(W)]\n",
    "        self.idx=None\n",
    "\n",
    "    def forward(self, idx):\n",
    "        W, = self.params\n",
    "        self.idx=idx\n",
    "        out=W[idx]\n",
    "        return out\n",
    "\n",
    "    def backward(self, dout):\n",
    "        dW, = self.grads\n",
    "        dW[...] = 0\n",
    "        np.add.at(dW, self.idx, dout)\n",
    "        return None"
   ]
  },
  {
   "cell_type": "markdown",
   "metadata": {},
   "source": [
    "これで１つ目の問題が解決できました"
   ]
  },
  {
   "cell_type": "markdown",
   "metadata": {},
   "source": [
    "## word2vecの改良②"
   ]
  },
  {
   "cell_type": "markdown",
   "metadata": {},
   "source": [
    "それではword2vec改良後編に入ります。  \n",
    "  \n",
    "入力層側の改良のときに話した通り巨大な行列の積の計算には多大な時間とメモリを要します。  \n",
    "  \n",
    "前章のword2vecを見てみると中間層側も同様の行列の積で実装されています。  \n",
    "  \n",
    "ここも要改善ポイントですね。\n",
    "  \n",
    "また、語彙数が100万のときのSoftmaxの計算も改めて見てみましょう\n",
    "\n",
    "$$\n",
    "\\text{softmax}(s_{k}) = \\frac{\\text{exp}(s_{k})}{\\sum_{i=1}^{1000000}\\text{exp}(s_{i})}\n",
    "$$"
   ]
  },
  {
   "cell_type": "markdown",
   "metadata": {},
   "source": [
    "分母の計算は語彙数が増えれば増えるほど計算回数が増えていき、大きいコーパスを扱うには少々重い計算になってしまいます。"
   ]
  },
  {
   "cell_type": "markdown",
   "metadata": {},
   "source": [
    "### **多値分類から二値分類へ**\n",
    "\n",
    "これからNegative Samplingの説明に入っていきますが、はじめにキーとなる二値分類への近似を考えていきます。  \n",
    "  \n",
    "多値分類を二値分類に変えるというのは  \n",
    "  \n",
    "いままで「ターゲットはなにか？」という質問だったのを「ターゲットは〇〇ですか？」という質問に変えることを意味します。  \n",
    "  \n",
    "この変換で変わるのは**出力層のニューロンの数**です。  \n",
    "  \n",
    "例えば「ターゲットはsayですか？」という質問であればsayに対応する列だけを抽出して計算すればいいのです。  "
   ]
  },
  {
   "cell_type": "markdown",
   "metadata": {},
   "source": [
    "![alt text](pict16.png)"
   ]
  },
  {
   "cell_type": "markdown",
   "metadata": {},
   "source": [
    "二値分類の場合、活性化関数と損失関数はシグモイド関数と交差エントロピー誤差を用います。\n",
    "  \n",
    "定義は以下に記述したとおりです。\n",
    "  \n",
    "シグモイド関数\n",
    "$$\n",
    "y = σ(x) = \\frac{1}{1 + \\text{exp}(-x)}\n",
    "$$\n",
    "  \n",
    "  \n",
    "交差エントロピー誤差  \n",
    "$$\n",
    "L = -(t\\text{log}(y)+(1-t)\\text{log}(1-y))\n",
    "$$\n",
    "  \n",
    "  \n",
    "シグモイド関数は値域が(0,1)の非線形関数で、それぞれの要素の「確率」と見ることができます。\n",
    "  \n",
    "交差エントロピー誤差は正解のラベルと予測の間の不一致を測定します。  \n",
    "  \n",
    "tは正解ラベル、yはシグモイド関数で計算された確率です。  \n",
    "  \n",
    "今回は後ほどこれらをまとめてSigmoid with Lossレイヤとして実装します。"
   ]
  },
  {
   "cell_type": "code",
   "execution_count": 9,
   "metadata": {},
   "outputs": [
    {
     "ename": "ModuleNotFoundError",
     "evalue": "No module named 'common'",
     "output_type": "error",
     "traceback": [
      "\u001b[0;31m---------------------------------------------------------------------------\u001b[0m",
      "\u001b[0;31mModuleNotFoundError\u001b[0m                       Traceback (most recent call last)",
      "Cell \u001b[0;32mIn[9], line 2\u001b[0m\n\u001b[1;32m      1\u001b[0m \u001b[38;5;66;03m#SigmoidWithLossレイヤの実装(復習)\u001b[39;00m\n\u001b[0;32m----> 2\u001b[0m \u001b[38;5;28;01mfrom\u001b[39;00m \u001b[38;5;21;01mcommon\u001b[39;00m\u001b[38;5;21;01m.\u001b[39;00m\u001b[38;5;21;01mfunctions\u001b[39;00m \u001b[38;5;28;01mimport\u001b[39;00m cross_entropy_error\n\u001b[1;32m      4\u001b[0m \u001b[38;5;28;01mclass\u001b[39;00m \u001b[38;5;21;01mSigmoidWithLoss\u001b[39;00m:\n\u001b[1;32m      5\u001b[0m     \u001b[38;5;28;01mdef\u001b[39;00m \u001b[38;5;21m__init__\u001b[39m(\u001b[38;5;28mself\u001b[39m):\n",
      "\u001b[0;31mModuleNotFoundError\u001b[0m: No module named 'common'"
     ]
    }
   ],
   "source": [
    "#SigmoidWithLossレイヤの実装(復習)\n",
    "from common.functions import cross_entropy_error\n",
    "\n",
    "class SigmoidWithLoss:\n",
    "    def __init__(self):\n",
    "        self.params, self.grads = [], []\n",
    "        self.loss = None\n",
    "        self.y = None  # sigmoidの出力\n",
    "        self.t = None  # 教師データ\n",
    "\n",
    "    def forward(self, x, t):\n",
    "        self.t = t\n",
    "        self.y = 1 / (1 + np.exp(-x))\n",
    "\n",
    "        self.loss = cross_entropy_error(np.c_[1 - self.y, self.y], self.t)\n",
    "\n",
    "        return self.loss\n",
    "\n",
    "    def backward(self, dout=1):\n",
    "        batch_size = self.t.shape[0]\n",
    "\n",
    "        dx = (self.y - self.t) * dout / batch_size\n",
    "        return dx"
   ]
  },
  {
   "cell_type": "markdown",
   "metadata": {},
   "source": [
    "### **Negative Sampling**\n",
    "\n",
    "ニューラルネットワークで学習するとき正解と同じくらい不正解の例も学習しなければいけません。  \n",
    "  \n",
    "正解の学習ではシグモイド関数の出力が1に近づくようにパラメータを更新します。  \n",
    "  \n",
    "不正解の例では逆で、出力が0に近づくように学習してくれることが望ましいです。"
   ]
  },
  {
   "cell_type": "markdown",
   "metadata": {},
   "source": [
    "![alt text](pict17.png)"
   ]
  },
  {
   "cell_type": "markdown",
   "metadata": {},
   "source": [
    "学習の仕方は分かりましたがこれを全部の負例に対してやるのでしょうか？  \n",
    "  \n",
    "答えは否です。そんなことをしてしまっては本章の目的が達成できません。  \n",
    "  \n",
    "そこで今回は負例をいくつかピックアップしてそれらを使って学習します。  \n",
    "  \n",
    "この手法を**Negative Sampling**といいます。  \n",
    "  \n",
    "まとめると正例と負例についてそれぞれで損失を求め、その総和を最終的な損失として学習をします。"
   ]
  },
  {
   "cell_type": "markdown",
   "metadata": {},
   "source": [
    "![alt text](pict18.png)"
   ]
  },
  {
   "cell_type": "markdown",
   "metadata": {},
   "source": [
    "さて、説明すべきことは負例のサンプリング方法だけになりました。   \n",
    "  \n",
    "採用する負例の個数はあとで設定するとしても100万個ある単語の中からどうやってサンプリングするかはとても重要です。  \n",
    "  \n",
    "完全ランダムにサンプリングするのも一つの手ですがもっといい方法があります。  \n",
    "  \n",
    "それは**コーパス内の単語の使用頻度に基づいてサンプリングする方法**です。  \n",
    "  \n",
    "この使用頻度に応じたサンプリングにはnp.random.choice()関数を使います。"
   ]
  },
  {
   "cell_type": "code",
   "execution_count": null,
   "metadata": {},
   "outputs": [
    {
     "data": {
      "text/plain": [
       "9"
      ]
     },
     "execution_count": 12,
     "metadata": {},
     "output_type": "execute_result"
    }
   ],
   "source": [
    "#random.choiceの使い方\n",
    "import numpy as np\n",
    "np.random.choice(10)"
   ]
  },
  {
   "cell_type": "code",
   "execution_count": 10,
   "metadata": {},
   "outputs": [
    {
     "data": {
      "text/plain": [
       "'I'"
      ]
     },
     "execution_count": 10,
     "metadata": {},
     "output_type": "execute_result"
    }
   ],
   "source": [
    "#wordsの中からランダムに一つ選ぶ\n",
    "words=['you','say','goodbye','I','hello','.']\n",
    "np.random.choice(words)"
   ]
  },
  {
   "cell_type": "code",
   "execution_count": 11,
   "metadata": {},
   "outputs": [
    {
     "data": {
      "text/plain": [
       "array(['hello', 'say', 'I', 'goodbye', 'hello'], dtype='<U7')"
      ]
     },
     "execution_count": 11,
     "metadata": {},
     "output_type": "execute_result"
    }
   ],
   "source": [
    "#5つだけランダムに選ぶ（重複あり）\n",
    "np.random.choice(words, size=5)"
   ]
  },
  {
   "cell_type": "code",
   "execution_count": 12,
   "metadata": {},
   "outputs": [
    {
     "data": {
      "text/plain": [
       "array(['I', 'you', 'goodbye', '.', 'say'], dtype='<U7')"
      ]
     },
     "execution_count": 12,
     "metadata": {},
     "output_type": "execute_result"
    }
   ],
   "source": [
    "#5つだけランダムに選ぶ（重複なし）\n",
    "np.random.choice(words, size=5, replace=False)"
   ]
  },
  {
   "cell_type": "code",
   "execution_count": 13,
   "metadata": {},
   "outputs": [
    {
     "data": {
      "text/plain": [
       "'say'"
      ]
     },
     "execution_count": 13,
     "metadata": {},
     "output_type": "execute_result"
    }
   ],
   "source": [
    "#確率分布に従ってサンプリング\n",
    "p=[0.5, 0.1, 0.05, 0.2, 0.05, 0.1]\n",
    "np.random.choice(words, p=p)"
   ]
  },
  {
   "cell_type": "markdown",
   "metadata": {},
   "source": [
    "random.choice()の引数は以下の３つです  \n",
    "size：サンプリングの回数指定  \n",
    "replace：重複の有無（デフォルトはTrue）  \n",
    "p：確率分布を指定  \n",
    "  \n",
    "さてword2vecでは与える確率分布にも一手間加えています。  \n",
    "  \n",
    "それは確率分布の小数乗を行うことです。  \n",
    "  \n",
    "この操作の意図は出現確率の低い単語の確率を少しだけ上げ、それらの単語を見捨てないようにするためです。  "
   ]
  },
  {
   "cell_type": "code",
   "execution_count": 14,
   "metadata": {},
   "outputs": [
    {
     "name": "stdout",
     "output_type": "stream",
     "text": [
      "[0.64196878 0.33150408 0.02652714]\n"
     ]
    }
   ],
   "source": [
    "p=[0.7, 0.29, 0.01]\n",
    "new_p=np.power(p, 0.75) #累乗する関数np.power\n",
    "new_p /= np.sum(new_p)\n",
    "print(new_p)"
   ]
  },
  {
   "cell_type": "markdown",
   "metadata": {},
   "source": [
    "これらの操作をUnigramSamplerクラスとしてまとめます。"
   ]
  },
  {
   "cell_type": "code",
   "execution_count": 16,
   "metadata": {},
   "outputs": [],
   "source": [
    "#UnigramSamplerの実装\n",
    "import sys\n",
    "sys.path.append('..')\n",
    "import collections\n",
    "from common import config\n",
    "class UnigramSampler:\n",
    "    def __init__(self, corpus, power, sample_size):\n",
    "        self.sample_size = sample_size\n",
    "        self.vocab_size = None\n",
    "        self.word_p = None\n",
    "\n",
    "        counts = collections.Counter()\n",
    "        for word_id in corpus:\n",
    "            counts[word_id] += 1\n",
    "\n",
    "        vocab_size = len(counts)\n",
    "        self.vocab_size = vocab_size\n",
    "\n",
    "        self.word_p = np.zeros(vocab_size)\n",
    "        for i in range(vocab_size):\n",
    "            self.word_p[i] = counts[i]\n",
    "\n",
    "        self.word_p = np.power(self.word_p, power)\n",
    "        self.word_p /= np.sum(self.word_p)\n",
    "\n",
    "    def get_negative_sample(self, target):\n",
    "        batch_size = target.shape[0]\n",
    "\n",
    "        if not GPU:\n",
    "            negative_sample = np.zeros((batch_size, self.sample_size), dtype=np.int32)\n",
    "\n",
    "            for i in range(batch_size):\n",
    "                p = self.word_p.copy()\n",
    "                target_idx = target[i]\n",
    "                p[target_idx] = 0\n",
    "                p /= p.sum()\n",
    "                negative_sample[i, :] = np.random.choice(self.vocab_size, size=self.sample_size, replace=False, p=p)\n",
    "        else:\n",
    "            # GPU(cupy）で計算するときは、速度を優先\n",
    "            # 負例にターゲットが含まれるケースがある\n",
    "            negative_sample = np.random.choice(self.vocab_size, size=(batch_size, self.sample_size),\n",
    "                                               replace=True, p=self.word_p)\n",
    "\n",
    "        return negative_sample\n"
   ]
  },
  {
   "cell_type": "code",
   "execution_count": 18,
   "metadata": {},
   "outputs": [
    {
     "name": "stdout",
     "output_type": "stream",
     "text": [
      "[[0 3]\n",
      " [1 4]\n",
      " [2 3]]\n"
     ]
    }
   ],
   "source": [
    "#UnigramSamplerのサンプリング\n",
    "import numpy as np\n",
    "import collections\n",
    "\n",
    "GPU = False\n",
    "\n",
    "corpus = np.array([0, 1, 2, 3, 4, 1, 2, 3])\n",
    "power = 0.75\n",
    "sample_size = 2\n",
    "\n",
    "sampler = UnigramSampler(corpus, power, sample_size)\n",
    "target = np.array([1, 3, 0])\n",
    "negative_sample = sampler.get_negative_sample(target)\n",
    "print(negative_sample)"
   ]
  },
  {
   "cell_type": "markdown",
   "metadata": {},
   "source": [
    "それでは順番に実装していきましょう！"
   ]
  },
  {
   "cell_type": "markdown",
   "metadata": {},
   "source": [
    "### **後半の実装**"
   ]
  },
  {
   "cell_type": "markdown",
   "metadata": {},
   "source": [
    "二値分類の全体像は以下の様になります  "
   ]
  },
  {
   "cell_type": "markdown",
   "metadata": {},
   "source": [
    "![alt text](pict19.png)"
   ]
  },
  {
   "cell_type": "markdown",
   "metadata": {},
   "source": [
    "・EmbeddingDotレイヤの実装  \n",
    "・Negative Sampling Lossレイヤの実装  \n",
    "・改良版CBOWの実装  \n",
    "  \n",
    "順に実装していきましょう！"
   ]
  },
  {
   "cell_type": "markdown",
   "metadata": {},
   "source": [
    "・EmbeddingDot  \n",
    "  \n",
    "二値分類に変わった中間層からの計算は\n",
    "  \n",
    "W_outから対応するベクトルを抽出して中間層から受け取ったhとの内積計算と記述できます。  \n",
    "   \n",
    "今回はこれをEmbeddingDotレイヤとしてまとめて実装します。"
   ]
  },
  {
   "cell_type": "code",
   "execution_count": 19,
   "metadata": {},
   "outputs": [],
   "source": [
    "class EmbeddingDot:\n",
    "    def __init__(self, W):\n",
    "        self.embed = Embedding(W) #Embeddingレイヤ\n",
    "        self.params = self.embed.params #パラメータ\n",
    "        self.grads = self.embed.grads #勾配 \n",
    "        self.cache = None #順伝播の際の中間データ\n",
    "\n",
    "    def forward(self, h, idx):\n",
    "        target_W = self.embed.forward(idx) #下で解説\n",
    "        out = np.sum(target_W * h, axis=1)\n",
    "\n",
    "        self.cache = (h, target_W)\n",
    "        return out\n",
    "\n",
    "    def backward(self, dout):\n",
    "        h, target_W = self.cache\n",
    "        dout = dout.reshape(dout.shape[0], 1)\n",
    "\n",
    "        dtarget_W = dout * h\n",
    "        self.embed.backward(dtarget_W)\n",
    "        dh = dout * target_W\n",
    "        return dh"
   ]
  },
  {
   "cell_type": "code",
   "execution_count": 20,
   "metadata": {},
   "outputs": [
    {
     "name": "stdout",
     "output_type": "stream",
     "text": [
      "W\n",
      "[[ 0  1  2]\n",
      " [ 3  4  5]\n",
      " [ 6  7  8]\n",
      " [ 9 10 11]\n",
      " [12 13 14]\n",
      " [15 16 17]\n",
      " [18 19 20]]\n",
      "idx\n",
      "[0 3 1]\n",
      "target_W\n",
      "[[ 0  1  2]\n",
      " [ 9 10 11]\n",
      " [ 3  4  5]]\n",
      "h\n",
      "[[0 1 2]\n",
      " [3 4 5]\n",
      " [6 7 8]]\n",
      "target_W * h\n",
      "[[ 0  1  4]\n",
      " [27 40 55]\n",
      " [18 28 40]]\n",
      "out\n",
      "[  5 122  86]\n"
     ]
    }
   ],
   "source": [
    "#forwardの処理解説\n",
    "W = np.arange(21).reshape(7,3)\n",
    "idx = np.array([0,3,1])\n",
    "h = np.array([[0,1,2],[3,4,5],[6,7,8]]) #中間層のニューロン\n",
    "embed = Embedding(W)\n",
    "target_W = embed.forward(idx)\n",
    "out = np.sum(target_W * h, axis=1)\n",
    "#W、idx,target_W,h,target_W * h, outを表にして出力\n",
    "print(\"W\")\n",
    "print(W)\n",
    "print(\"idx\")\n",
    "print(idx)\n",
    "print(\"target_W\")\n",
    "print(target_W)\n",
    "print(\"h\")\n",
    "print(h)\n",
    "print(\"target_W * h\")\n",
    "print(target_W * h)\n",
    "print(\"out\")\n",
    "print(out)\n"
   ]
  },
  {
   "cell_type": "markdown",
   "metadata": {},
   "source": [
    "・NegativeSamplingLossの実装  \n",
    "  \n"
   ]
  },
  {
   "cell_type": "code",
   "execution_count": 21,
   "metadata": {},
   "outputs": [],
   "source": [
    "#NegativeSamplingLossの実装\n",
    "class NegativeSamplingLoss:\n",
    "    def __init__(self, W, corpus, power=0.75, sample_size=5):\n",
    "        self.sample_size = sample_size #負例のサンプリング数\n",
    "        self.sampler = UnigramSampler(corpus, power, sample_size) #UnigramSamplerの保持\n",
    "        self.loss_layers = [SigmoidWithLoss() for _ in range(sample_size + 1)] #SigmoidWithLossレイヤの保持\n",
    "        self.embed_dot_layers = [EmbeddingDot(W) for _ in range(sample_size + 1)] #EmbeddingDotレイヤの保持\n",
    "\n",
    "        #lossレイヤとembed_dotレイヤは負例の数＋正例(sample_size+1)個分用意する\n",
    "\n",
    "        self.params, self.grads = [], []\n",
    "        for layer in self.embed_dot_layers:\n",
    "            self.params += layer.params\n",
    "            self.grads += layer.grads\n",
    "\n",
    "    def forward(self, h, target): #引数は中間層のニューロンhとターゲットの単語ID\n",
    "        batch_size = target.shape[0] #バッチサイズ\n",
    "        negative_sample = self.sampler.get_negative_sample(target) #負例のサンプリング\n",
    "\n",
    "        # 正例のフォワード\n",
    "        score = self.embed_dot_layers[0].forward(h, target)\n",
    "        correct_label = np.ones(batch_size, dtype=np.int32) #正例の正解ラベルは1\n",
    "        loss = self.loss_layers[0].forward(score, correct_label)\n",
    "\n",
    "        # 負例のフォワード\n",
    "        negative_label = np.zeros(batch_size, dtype=np.int32) #負例の正解ラベルは0\n",
    "        for i in range(self.sample_size): #負例の数だけループ\n",
    "            negative_target = negative_sample[:, i]\n",
    "            score = self.embed_dot_layers[1 + i].forward(h, negative_target)\n",
    "            loss += self.loss_layers[1 + i].forward(score, negative_label) #負例の損失を加算\n",
    "        \n",
    "        #lossには正例の損失と負例の損失が合算されている\n",
    "\n",
    "        return loss\n",
    "\n",
    "    def backward(self, dout=1):\n",
    "        dh = 0\n",
    "        for l0, l1 in zip(self.loss_layers, self.embed_dot_layers):\n",
    "            dscore = l0.backward(dout)\n",
    "            dh += l1.backward(dscore)\n",
    "\n",
    "        return dh"
   ]
  },
  {
   "cell_type": "markdown",
   "metadata": {},
   "source": [
    "・改良版CBOWモデル  \n",
    "それでは準備が整ったので改良版CBOWモデルを実装していきましょう"
   ]
  },
  {
   "cell_type": "code",
   "execution_count": 22,
   "metadata": {},
   "outputs": [],
   "source": [
    "#改良版CBOWモデルの実装\n",
    "import sys\n",
    "sys.path.append('..')\n",
    "from common.np import *  # import numpy as np\n",
    "from common.layers import Embedding\n",
    "#from ch04.negative_sampling_layer import NegativeSamplingLoss\n",
    "\n",
    "\n",
    "class CBOW:\n",
    "    def __init__(self, vocab_size, hidden_size, window_size, corpus):\n",
    "        V, H = vocab_size, hidden_size\n",
    "\n",
    "        # 重みの初期化\n",
    "        W_in = 0.01 * np.random.randn(V, H).astype('f')\n",
    "        W_out = 0.01 * np.random.randn(V, H).astype('f')\n",
    "\n",
    "        # レイヤの生成\n",
    "        self.in_layers = []\n",
    "        for i in range(2 * window_size):\n",
    "            layer = Embedding(W_in)  # Embeddingレイヤを使用\n",
    "            self.in_layers.append(layer)\n",
    "        self.ns_loss = NegativeSamplingLoss(W_out, corpus, power=0.75, sample_size=5)\n",
    "\n",
    "        # すべての重みと勾配をリストにまとめる\n",
    "        layers = self.in_layers + [self.ns_loss]\n",
    "        self.params, self.grads = [], []\n",
    "        for layer in layers:\n",
    "            self.params += layer.params\n",
    "            self.grads += layer.grads\n",
    "\n",
    "        # メンバ変数に単語の分散表現を設定\n",
    "        self.word_vecs = W_in\n",
    "\n",
    "    def forward(self, contexts, target):\n",
    "        h = 0\n",
    "        for i, layer in enumerate(self.in_layers):\n",
    "            h += layer.forward(contexts[:, i])\n",
    "        h *= 1 / len(self.in_layers)\n",
    "        loss = self.ns_loss.forward(h, target)\n",
    "        return loss\n",
    "\n",
    "    def backward(self, dout=1):\n",
    "        dout = self.ns_loss.backward(dout)\n",
    "        dout *= 1 / len(self.in_layers)\n",
    "        for layer in self.in_layers:\n",
    "            layer.backward(dout)\n",
    "        return None"
   ]
  },
  {
   "cell_type": "markdown",
   "metadata": {},
   "source": [
    "それではこのCBOWモデルで学習していきましょう"
   ]
  },
  {
   "cell_type": "code",
   "execution_count": 23,
   "metadata": {},
   "outputs": [
    {
     "ename": "NameError",
     "evalue": "name 'SigmoidWithLoss' is not defined",
     "output_type": "error",
     "traceback": [
      "\u001b[0;31m---------------------------------------------------------------------------\u001b[0m",
      "\u001b[0;31mNameError\u001b[0m                                 Traceback (most recent call last)",
      "Cell \u001b[0;32mIn[23], line 35\u001b[0m\n\u001b[1;32m     32\u001b[0m     contexts, target \u001b[38;5;241m=\u001b[39m to_gpu(contexts), to_gpu(target)\n\u001b[1;32m     34\u001b[0m \u001b[38;5;66;03m# モデルなどの生成\u001b[39;00m\n\u001b[0;32m---> 35\u001b[0m model \u001b[38;5;241m=\u001b[39m \u001b[43mCBOW\u001b[49m\u001b[43m(\u001b[49m\u001b[43mvocab_size\u001b[49m\u001b[43m,\u001b[49m\u001b[43m \u001b[49m\u001b[43mhidden_size\u001b[49m\u001b[43m,\u001b[49m\u001b[43m \u001b[49m\u001b[43mwindow_size\u001b[49m\u001b[43m,\u001b[49m\u001b[43m \u001b[49m\u001b[43mcorpus\u001b[49m\u001b[43m)\u001b[49m\n\u001b[1;32m     36\u001b[0m \u001b[38;5;66;03m# model = SkipGram(vocab_size, hidden_size, window_size, corpus)\u001b[39;00m\n\u001b[1;32m     37\u001b[0m optimizer \u001b[38;5;241m=\u001b[39m Adam()\n",
      "Cell \u001b[0;32mIn[22], line 22\u001b[0m, in \u001b[0;36mCBOW.__init__\u001b[0;34m(self, vocab_size, hidden_size, window_size, corpus)\u001b[0m\n\u001b[1;32m     20\u001b[0m     layer \u001b[38;5;241m=\u001b[39m Embedding(W_in)  \u001b[38;5;66;03m# Embeddingレイヤを使用\u001b[39;00m\n\u001b[1;32m     21\u001b[0m     \u001b[38;5;28mself\u001b[39m\u001b[38;5;241m.\u001b[39min_layers\u001b[38;5;241m.\u001b[39mappend(layer)\n\u001b[0;32m---> 22\u001b[0m \u001b[38;5;28mself\u001b[39m\u001b[38;5;241m.\u001b[39mns_loss \u001b[38;5;241m=\u001b[39m \u001b[43mNegativeSamplingLoss\u001b[49m\u001b[43m(\u001b[49m\u001b[43mW_out\u001b[49m\u001b[43m,\u001b[49m\u001b[43m \u001b[49m\u001b[43mcorpus\u001b[49m\u001b[43m,\u001b[49m\u001b[43m \u001b[49m\u001b[43mpower\u001b[49m\u001b[38;5;241;43m=\u001b[39;49m\u001b[38;5;241;43m0.75\u001b[39;49m\u001b[43m,\u001b[49m\u001b[43m \u001b[49m\u001b[43msample_size\u001b[49m\u001b[38;5;241;43m=\u001b[39;49m\u001b[38;5;241;43m5\u001b[39;49m\u001b[43m)\u001b[49m\n\u001b[1;32m     24\u001b[0m \u001b[38;5;66;03m# すべての重みと勾配をリストにまとめる\u001b[39;00m\n\u001b[1;32m     25\u001b[0m layers \u001b[38;5;241m=\u001b[39m \u001b[38;5;28mself\u001b[39m\u001b[38;5;241m.\u001b[39min_layers \u001b[38;5;241m+\u001b[39m [\u001b[38;5;28mself\u001b[39m\u001b[38;5;241m.\u001b[39mns_loss]\n",
      "Cell \u001b[0;32mIn[21], line 6\u001b[0m, in \u001b[0;36mNegativeSamplingLoss.__init__\u001b[0;34m(self, W, corpus, power, sample_size)\u001b[0m\n\u001b[1;32m      4\u001b[0m \u001b[38;5;28mself\u001b[39m\u001b[38;5;241m.\u001b[39msample_size \u001b[38;5;241m=\u001b[39m sample_size \u001b[38;5;66;03m#負例のサンプリング数\u001b[39;00m\n\u001b[1;32m      5\u001b[0m \u001b[38;5;28mself\u001b[39m\u001b[38;5;241m.\u001b[39msampler \u001b[38;5;241m=\u001b[39m UnigramSampler(corpus, power, sample_size) \u001b[38;5;66;03m#UnigramSamplerの保持\u001b[39;00m\n\u001b[0;32m----> 6\u001b[0m \u001b[38;5;28mself\u001b[39m\u001b[38;5;241m.\u001b[39mloss_layers \u001b[38;5;241m=\u001b[39m \u001b[43m[\u001b[49m\u001b[43mSigmoidWithLoss\u001b[49m\u001b[43m(\u001b[49m\u001b[43m)\u001b[49m\u001b[43m \u001b[49m\u001b[38;5;28;43;01mfor\u001b[39;49;00m\u001b[43m \u001b[49m\u001b[43m_\u001b[49m\u001b[43m \u001b[49m\u001b[38;5;129;43;01min\u001b[39;49;00m\u001b[43m \u001b[49m\u001b[38;5;28;43mrange\u001b[39;49m\u001b[43m(\u001b[49m\u001b[43msample_size\u001b[49m\u001b[43m \u001b[49m\u001b[38;5;241;43m+\u001b[39;49m\u001b[43m \u001b[49m\u001b[38;5;241;43m1\u001b[39;49m\u001b[43m)\u001b[49m\u001b[43m]\u001b[49m \u001b[38;5;66;03m#SigmoidWithLossレイヤの保持\u001b[39;00m\n\u001b[1;32m      7\u001b[0m \u001b[38;5;28mself\u001b[39m\u001b[38;5;241m.\u001b[39membed_dot_layers \u001b[38;5;241m=\u001b[39m [EmbeddingDot(W) \u001b[38;5;28;01mfor\u001b[39;00m _ \u001b[38;5;129;01min\u001b[39;00m \u001b[38;5;28mrange\u001b[39m(sample_size \u001b[38;5;241m+\u001b[39m \u001b[38;5;241m1\u001b[39m)] \u001b[38;5;66;03m#EmbeddingDotレイヤの保持\u001b[39;00m\n\u001b[1;32m      9\u001b[0m \u001b[38;5;66;03m#lossレイヤとembed_dotレイヤは負例の数＋正例(sample_size+1)個分用意する\u001b[39;00m\n",
      "Cell \u001b[0;32mIn[21], line 6\u001b[0m, in \u001b[0;36m<listcomp>\u001b[0;34m(.0)\u001b[0m\n\u001b[1;32m      4\u001b[0m \u001b[38;5;28mself\u001b[39m\u001b[38;5;241m.\u001b[39msample_size \u001b[38;5;241m=\u001b[39m sample_size \u001b[38;5;66;03m#負例のサンプリング数\u001b[39;00m\n\u001b[1;32m      5\u001b[0m \u001b[38;5;28mself\u001b[39m\u001b[38;5;241m.\u001b[39msampler \u001b[38;5;241m=\u001b[39m UnigramSampler(corpus, power, sample_size) \u001b[38;5;66;03m#UnigramSamplerの保持\u001b[39;00m\n\u001b[0;32m----> 6\u001b[0m \u001b[38;5;28mself\u001b[39m\u001b[38;5;241m.\u001b[39mloss_layers \u001b[38;5;241m=\u001b[39m [\u001b[43mSigmoidWithLoss\u001b[49m() \u001b[38;5;28;01mfor\u001b[39;00m _ \u001b[38;5;129;01min\u001b[39;00m \u001b[38;5;28mrange\u001b[39m(sample_size \u001b[38;5;241m+\u001b[39m \u001b[38;5;241m1\u001b[39m)] \u001b[38;5;66;03m#SigmoidWithLossレイヤの保持\u001b[39;00m\n\u001b[1;32m      7\u001b[0m \u001b[38;5;28mself\u001b[39m\u001b[38;5;241m.\u001b[39membed_dot_layers \u001b[38;5;241m=\u001b[39m [EmbeddingDot(W) \u001b[38;5;28;01mfor\u001b[39;00m _ \u001b[38;5;129;01min\u001b[39;00m \u001b[38;5;28mrange\u001b[39m(sample_size \u001b[38;5;241m+\u001b[39m \u001b[38;5;241m1\u001b[39m)] \u001b[38;5;66;03m#EmbeddingDotレイヤの保持\u001b[39;00m\n\u001b[1;32m      9\u001b[0m \u001b[38;5;66;03m#lossレイヤとembed_dotレイヤは負例の数＋正例(sample_size+1)個分用意する\u001b[39;00m\n",
      "\u001b[0;31mNameError\u001b[0m: name 'SigmoidWithLoss' is not defined"
     ]
    }
   ],
   "source": [
    "#GPUを使わないと1時間かかるので注意\n",
    "import sys\n",
    "sys.path.append('..')\n",
    "from common import config\n",
    "# GPUで実行する場合は、下記のコメントアウトを消去（要cupy）\n",
    "# ===============================================\n",
    "# config.GPU = True\n",
    "# ===============================================\n",
    "from common.np import *\n",
    "import pickle\n",
    "from common.functions import cross_entropy_error\n",
    "from common.trainer import Trainer\n",
    "from common.optimizer import Adam\n",
    "#from common.cbow import CBOW\n",
    "#from common.skip_gram import SkipGram\n",
    "from common.util import create_contexts_target, to_cpu, to_gpu\n",
    "from datasets import ptb\n",
    "\n",
    "\n",
    "# ハイパーパラメータの設定\n",
    "window_size = 5\n",
    "hidden_size = 100\n",
    "batch_size = 100\n",
    "max_epoch = 10\n",
    "\n",
    "# データの読み込み\n",
    "corpus, word_to_id, id_to_word = ptb.load_data('train')\n",
    "vocab_size = len(word_to_id)\n",
    "\n",
    "contexts, target = create_contexts_target(corpus, window_size)\n",
    "if config.GPU:\n",
    "    contexts, target = to_gpu(contexts), to_gpu(target)\n",
    "\n",
    "# モデルなどの生成\n",
    "model = CBOW(vocab_size, hidden_size, window_size, corpus)\n",
    "# model = SkipGram(vocab_size, hidden_size, window_size, corpus)\n",
    "optimizer = Adam()\n",
    "trainer = Trainer(model, optimizer)\n",
    "\n",
    "# 学習開始\n",
    "trainer.fit(contexts, target, max_epoch, batch_size)\n",
    "trainer.plot()\n",
    "\n",
    "# 後ほど利用できるように、必要なデータを保存\n",
    "word_vecs = model.word_vecs\n",
    "if config.GPU:\n",
    "    word_vecs = to_cpu(word_vecs)\n",
    "params = {}\n",
    "params['word_vecs'] = word_vecs.astype(np.float16)\n",
    "params['word_to_id'] = word_to_id\n",
    "params['id_to_word'] = id_to_word\n",
    "pkl_file = 'cbow_params.pkl'  # or 'skipgram_params.pkl'\n",
    "with open(pkl_file, 'wb') as f:\n",
    "    pickle.dump(params, f, -1)"
   ]
  },
  {
   "cell_type": "code",
   "execution_count": 39,
   "metadata": {},
   "outputs": [
    {
     "name": "stdout",
     "output_type": "stream",
     "text": [
      "\n",
      "[query] you\n",
      " we: 0.71923828125\n",
      " i: 0.7109375\n",
      " your: 0.61865234375\n",
      " they: 0.599609375\n",
      " anything: 0.58935546875\n",
      "\n",
      "[query] year\n",
      " month: 0.83984375\n",
      " summer: 0.75634765625\n",
      " week: 0.75244140625\n",
      " spring: 0.7490234375\n",
      " decade: 0.70556640625\n",
      "\n",
      "[query] car\n",
      " truck: 0.63671875\n",
      " window: 0.61083984375\n",
      " auto: 0.6025390625\n",
      " cars: 0.59716796875\n",
      " luxury: 0.55517578125\n",
      "\n",
      "[query] toyota\n",
      " mazda: 0.64404296875\n",
      " nissan: 0.62255859375\n",
      " seita: 0.615234375\n",
      " tires: 0.60986328125\n",
      " honda: 0.60693359375\n"
     ]
    }
   ],
   "source": [
    "import sys\n",
    "sys.path.append('..')\n",
    "from common.util import most_similar, analogy\n",
    "import pickle\n",
    "\n",
    "pkl_file = 'cbow_params.pkl'  # or 'skipgram_params.pkl'\n",
    "with open(pkl_file, 'rb') as f:\n",
    "    params = pickle.load(f)\n",
    "    word_vecs = params['word_vecs']\n",
    "    word_to_id = params['word_to_id']\n",
    "    id_to_word = params['id_to_word']\n",
    "\n",
    "# most similar task\n",
    "querys = ['you', 'year', 'car', 'toyota']\n",
    "for query in querys:\n",
    "    most_similar(query, word_to_id, id_to_word, word_vecs, top=5)"
   ]
  },
  {
   "cell_type": "code",
   "execution_count": 42,
   "metadata": {},
   "outputs": [
    {
     "name": "stdout",
     "output_type": "stream",
     "text": [
      "\n",
      "[analogy] king:man = queen:?\n",
      " a.m: 6.06640625\n",
      " woman: 5.23046875\n",
      " mother: 4.9453125\n",
      " daffynition: 4.86328125\n",
      " gene: 4.53125\n",
      "\n",
      "[analogy] take:took = go:?\n",
      " eurodollars: 4.75390625\n",
      " came: 4.30859375\n",
      " 're: 4.15234375\n",
      " went: 4.1328125\n",
      " goes: 4.03515625\n",
      "\n",
      "[analogy] car:cars = child:?\n",
      " a.m: 6.3828125\n",
      " children: 5.73828125\n",
      " rape: 5.41015625\n",
      " adults: 5.2109375\n",
      " women: 4.94140625\n",
      "\n",
      "[analogy] good:better = bad:?\n",
      " rather: 5.171875\n",
      " more: 5.1484375\n",
      " less: 4.8046875\n",
      " worse: 3.939453125\n",
      " greater: 3.712890625\n"
     ]
    }
   ],
   "source": [
    "analogy('king', 'man','queen', word_to_id, id_to_word, word_vecs, top=5)\n",
    "analogy('take', 'took', 'go', word_to_id, id_to_word, word_vecs, top=5)\n",
    "analogy('car', 'cars', 'child', word_to_id, id_to_word, word_vecs, top=5)\n",
    "analogy('good', 'better', 'bad', word_to_id, id_to_word, word_vecs, top=5)"
   ]
  },
  {
   "cell_type": "code",
   "execution_count": null,
   "metadata": {},
   "outputs": [],
   "source": []
  }
 ],
 "metadata": {
  "kernelspec": {
   "display_name": "Python 3",
   "language": "python",
   "name": "python3"
  },
  "language_info": {
   "codemirror_mode": {
    "name": "ipython",
    "version": 3
   },
   "file_extension": ".py",
   "mimetype": "text/x-python",
   "name": "python",
   "nbconvert_exporter": "python",
   "pygments_lexer": "ipython3",
   "version": "3.11.8"
  }
 },
 "nbformat": 4,
 "nbformat_minor": 2
}
